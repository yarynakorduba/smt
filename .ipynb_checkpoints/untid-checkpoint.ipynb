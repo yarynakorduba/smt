{
 "cells": [
  {
   "cell_type": "code",
   "execution_count": 4,
   "metadata": {
    "ExecuteTime": {
     "end_time": "2023-06-02T08:08:23.527682800Z",
     "start_time": "2023-06-02T08:08:23.508678Z"
    }
   },
   "outputs": [
    {
     "ename": "ModuleNotFoundError",
     "evalue": "No module named 'vaderSentiment'",
     "output_type": "error",
     "traceback": [
      "\u001b[0;31m---------------------------------------------------------------------------\u001b[0m",
      "\u001b[0;31mModuleNotFoundError\u001b[0m                       Traceback (most recent call last)",
      "Cell \u001b[0;32mIn[4], line 14\u001b[0m\n\u001b[1;32m     12\u001b[0m \u001b[38;5;28;01mfrom\u001b[39;00m \u001b[38;5;21;01msklearn\u001b[39;00m\u001b[38;5;21;01m.\u001b[39;00m\u001b[38;5;21;01mfeature_extraction\u001b[39;00m\u001b[38;5;21;01m.\u001b[39;00m\u001b[38;5;21;01mtext\u001b[39;00m \u001b[38;5;28;01mimport\u001b[39;00m CountVectorizer\n\u001b[1;32m     13\u001b[0m \u001b[38;5;28;01mfrom\u001b[39;00m \u001b[38;5;21;01msklearn\u001b[39;00m\u001b[38;5;21;01m.\u001b[39;00m\u001b[38;5;21;01mdecomposition\u001b[39;00m \u001b[38;5;28;01mimport\u001b[39;00m LatentDirichletAllocation \u001b[38;5;28;01mas\u001b[39;00m LDA\n\u001b[0;32m---> 14\u001b[0m \u001b[38;5;28;01mfrom\u001b[39;00m \u001b[38;5;21;01mvaderSentiment\u001b[39;00m\u001b[38;5;21;01m.\u001b[39;00m\u001b[38;5;21;01mvaderSentiment\u001b[39;00m \u001b[38;5;28;01mimport\u001b[39;00m SentimentIntensityAnalyzer\n\u001b[1;32m     15\u001b[0m \u001b[38;5;28;01mfrom\u001b[39;00m \u001b[38;5;21;01msklearn\u001b[39;00m\u001b[38;5;21;01m.\u001b[39;00m\u001b[38;5;21;01mdecomposition\u001b[39;00m \u001b[38;5;28;01mimport\u001b[39;00m LatentDirichletAllocation\n\u001b[1;32m     16\u001b[0m get_ipython()\u001b[38;5;241m.\u001b[39mrun_line_magic(\u001b[38;5;124m'\u001b[39m\u001b[38;5;124mpip\u001b[39m\u001b[38;5;124m'\u001b[39m, \u001b[38;5;124m'\u001b[39m\u001b[38;5;124minstall vaderSentiment\u001b[39m\u001b[38;5;124m'\u001b[39m)\n",
      "\u001b[0;31mModuleNotFoundError\u001b[0m: No module named 'vaderSentiment'"
     ]
    }
   ],
   "source": [
    "import os\n",
    "import pandas as pd\n",
    "from transformers import AutoModelForSequenceClassification\n",
    "from transformers import TFAutoModelForSequenceClassification\n",
    "from transformers import AutoTokenizer, AutoConfig\n",
    "import numpy as np\n",
    "from scipy.special import softmax\n",
    "import torch\n",
    "\n",
    "%pip install vaderSentiment\n",
    "\n",
    "from textblob import TextBlob\n",
    "from sklearn.feature_extraction.text import CountVectorizer\n",
    "from sklearn.decomposition import LatentDirichletAllocation as LDA\n",
    "from vaderSentiment.vaderSentiment import SentimentIntensityAnalyzer\n",
    "from sklearn.decomposition import LatentDirichletAllocation\n"
   ]
  },
  {
   "cell_type": "code",
   "execution_count": null,
   "metadata": {},
   "outputs": [],
   "source": []
  },
  {
   "cell_type": "code",
   "execution_count": 2,
   "metadata": {
    "ExecuteTime": {
     "end_time": "2023-06-02T07:28:53.996320100Z",
     "start_time": "2023-06-02T07:28:10.120567700Z"
    }
   },
   "outputs": [
    {
     "data": {
      "application/vnd.jupyter.widget-view+json": {
       "model_id": "4fbc390246584d2f85cc3f25d9aa39be",
       "version_major": 2,
       "version_minor": 0
      },
      "text/plain": [
       "Downloading:   0%|          | 0.00/501M [00:00<?, ?B/s]"
      ]
     },
     "metadata": {},
     "output_type": "display_data"
    },
    {
     "name": "stderr",
     "output_type": "stream",
     "text": [
      "Some weights of the model checkpoint at cardiffnlp/twitter-roberta-base-sentiment-latest were not used when initializing RobertaForSequenceClassification: ['roberta.pooler.dense.weight', 'roberta.pooler.dense.bias']\n",
      "- This IS expected if you are initializing RobertaForSequenceClassification from the checkpoint of a model trained on another task or with another architecture (e.g. initializing a BertForSequenceClassification model from a BertForPreTraining model).\n",
      "- This IS NOT expected if you are initializing RobertaForSequenceClassification from the checkpoint of a model that you expect to be exactly identical (initializing a BertForSequenceClassification model from a BertForSequenceClassification model).\n"
     ]
    }
   ],
   "source": [
    "def get_sentiment(text):\n",
    "    blob = TextBlob(text)\n",
    "    return blob.sentiment.polarity\n",
    "\n",
    "post_data['sentiment'] = post_data['text'].apply(get_sentiment)\n",
    "comment_data['sentiment'] = comment_data['text'].apply(get_sentiment)"
   ]
  },
  {
   "cell_type": "code",
   "execution_count": 39,
   "metadata": {
    "ExecuteTime": {
     "end_time": "2023-06-02T08:06:23.635735100Z",
     "start_time": "2023-06-02T08:06:23.618739600Z"
    }
   },
   "outputs": [],
   "source": [
    "def write_to_feather(df, name):\n",
    "    root_dir = os.path.dirname(os.path.abspath('twitter_sentimentAnalysis.ipynb'))\n",
    "    path = os.path.join(root_dir, 'twitter_res/' + name)\n",
    "    feather.write_feather(df, path)"
   ]
  },
  {
   "cell_type": "code",
   "execution_count": 40,
   "metadata": {
    "ExecuteTime": {
     "end_time": "2023-06-02T08:06:29.520909600Z",
     "start_time": "2023-06-02T08:06:26.313437300Z"
    }
   },
   "outputs": [],
   "source": [
    "df_twitter_old = pd.read_feather(\"twitter_res/twitter_old.ftr\");\n",
    "df_twitter_new = pd.read_feather(\"twitter_res/twitter_new.ftr\");"
   ]
  },
  {
   "cell_type": "code",
   "execution_count": 41,
   "metadata": {
    "ExecuteTime": {
     "end_time": "2023-06-02T08:06:30.258673600Z",
     "start_time": "2023-06-02T08:06:30.234682Z"
    }
   },
   "outputs": [
    {
     "name": "stdout",
     "output_type": "stream",
     "text": [
      " climate change interesting hustle global warming planet stopped warming 15 yes suv boom \n"
     ]
    }
   ],
   "source": [
    "print(df_twitter_old['tweet'][0]);"
   ]
  },
  {
   "cell_type": "code",
   "execution_count": 48,
   "metadata": {
    "ExecuteTime": {
     "end_time": "2023-06-02T08:08:44.520584400Z",
     "start_time": "2023-06-02T08:08:44.200467600Z"
    }
   },
   "outputs": [
    {
     "data": {
      "text/html": [
       "<div>\n",
       "<style scoped>\n",
       "    .dataframe tbody tr th:only-of-type {\n",
       "        vertical-align: middle;\n",
       "    }\n",
       "\n",
       "    .dataframe tbody tr th {\n",
       "        vertical-align: top;\n",
       "    }\n",
       "\n",
       "    .dataframe thead th {\n",
       "        text-align: right;\n",
       "    }\n",
       "</style>\n",
       "<table border=\"1\" class=\"dataframe\">\n",
       "  <thead>\n",
       "    <tr style=\"text-align: right;\">\n",
       "      <th></th>\n",
       "      <th>tweet</th>\n",
       "      <th>tweet_ts</th>\n",
       "      <th>hashtags</th>\n",
       "      <th>sentimentScore</th>\n",
       "    </tr>\n",
       "  </thead>\n",
       "  <tbody>\n",
       "    <tr>\n",
       "      <th>0</th>\n",
       "      <td>climate change interesting hustle global warm...</td>\n",
       "      <td>31-10-2016</td>\n",
       "      <td>[]</td>\n",
       "      <td>[0.013433724, 0.56145763, 0.42510867]</td>\n",
       "    </tr>\n",
       "    <tr>\n",
       "      <th>1</th>\n",
       "      <td>watch #beforetheflood right here,  travels wo...</td>\n",
       "      <td>31-10-2016</td>\n",
       "      <td>[#beforetheflood]</td>\n",
       "      <td>[0.019552002, 0.795175, 0.18527298]</td>\n",
       "    </tr>\n",
       "    <tr>\n",
       "      <th>2</th>\n",
       "      <td>fabulous! leonardo #dicaprio's film #climate c...</td>\n",
       "      <td>31-10-2016</td>\n",
       "      <td>[#dicaprio, #climate]</td>\n",
       "      <td>[0.0022631218, 0.01210344, 0.98563343]</td>\n",
       "    </tr>\n",
       "    <tr>\n",
       "      <th>3</th>\n",
       "      <td>watched amazing documentary leonardodicaprio ...</td>\n",
       "      <td>31-10-2016</td>\n",
       "      <td>[]</td>\n",
       "      <td>[0.0034224496, 0.031758707, 0.9648187]</td>\n",
       "    </tr>\n",
       "    <tr>\n",
       "      <th>4</th>\n",
       "      <td>pranita biswasi, lutheran odisha, gives testi...</td>\n",
       "      <td>31-10-2016</td>\n",
       "      <td>[]</td>\n",
       "      <td>[0.021988245, 0.9171695, 0.06084218]</td>\n",
       "    </tr>\n",
       "    <tr>\n",
       "      <th>...</th>\n",
       "      <td>...</td>\n",
       "      <td>...</td>\n",
       "      <td>...</td>\n",
       "      <td>...</td>\n",
       "    </tr>\n",
       "    <tr>\n",
       "      <th>43934</th>\n",
       "      <td>#awareness walls aren$q$t answer people fleein...</td>\n",
       "      <td>26-10-2016</td>\n",
       "      <td>[#awareness]</td>\n",
       "      <td>[]</td>\n",
       "    </tr>\n",
       "    <tr>\n",
       "      <th>43935</th>\n",
       "      <td>americans scared clowns climate change.</td>\n",
       "      <td>26-10-2016</td>\n",
       "      <td>[]</td>\n",
       "      <td>[]</td>\n",
       "    </tr>\n",
       "    <tr>\n",
       "      <th>43939</th>\n",
       "      <td>respective parties prevent climate change glob...</td>\n",
       "      <td>26-10-2016</td>\n",
       "      <td>[#zpndebate]</td>\n",
       "      <td>[]</td>\n",
       "    </tr>\n",
       "    <tr>\n",
       "      <th>43941</th>\n",
       "      <td>still can$q$t believe gif taehyung saved huma...</td>\n",
       "      <td>26-10-2016</td>\n",
       "      <td>[]</td>\n",
       "      <td>[]</td>\n",
       "    </tr>\n",
       "    <tr>\n",
       "      <th>43942</th>\n",
       "      <td>wealthy + fossil fuel industry know climate ...</td>\n",
       "      <td>26-10-2016</td>\n",
       "      <td>[]</td>\n",
       "      <td>[]</td>\n",
       "    </tr>\n",
       "  </tbody>\n",
       "</table>\n",
       "<p>33966 rows × 4 columns</p>\n",
       "</div>"
      ],
      "text/plain": [
       "                                                   tweet    tweet_ts  \\\n",
       "0       climate change interesting hustle global warm...  31-10-2016   \n",
       "1       watch #beforetheflood right here,  travels wo...  31-10-2016   \n",
       "2      fabulous! leonardo #dicaprio's film #climate c...  31-10-2016   \n",
       "3       watched amazing documentary leonardodicaprio ...  31-10-2016   \n",
       "4       pranita biswasi, lutheran odisha, gives testi...  31-10-2016   \n",
       "...                                                  ...         ...   \n",
       "43934  #awareness walls aren$q$t answer people fleein...  26-10-2016   \n",
       "43935          americans scared clowns climate change.    26-10-2016   \n",
       "43939  respective parties prevent climate change glob...  26-10-2016   \n",
       "43941   still can$q$t believe gif taehyung saved huma...  26-10-2016   \n",
       "43942    wealthy + fossil fuel industry know climate ...  26-10-2016   \n",
       "\n",
       "                    hashtags                          sentimentScore  \n",
       "0                         []   [0.013433724, 0.56145763, 0.42510867]  \n",
       "1          [#beforetheflood]     [0.019552002, 0.795175, 0.18527298]  \n",
       "2      [#dicaprio, #climate]  [0.0022631218, 0.01210344, 0.98563343]  \n",
       "3                         []  [0.0034224496, 0.031758707, 0.9648187]  \n",
       "4                         []    [0.021988245, 0.9171695, 0.06084218]  \n",
       "...                      ...                                     ...  \n",
       "43934           [#awareness]                                      []  \n",
       "43935                     []                                      []  \n",
       "43939           [#zpndebate]                                      []  \n",
       "43941                     []                                      []  \n",
       "43942                     []                                      []  \n",
       "\n",
       "[33966 rows x 4 columns]"
      ]
     },
     "execution_count": 48,
     "metadata": {},
     "output_type": "execute_result"
    }
   ],
   "source": [
    "counter = 0\n",
    "allScores = [[] for i in range(len(df_twitter_old['tweet']))]\n",
    "\n",
    "for tweet in df_twitter_old['tweet']:\n",
    "    encoded_input = tokenizer(tweet, return_tensors='pt')\n",
    "    output = model(**encoded_input)\n",
    "    scores = output[0][0].detach().numpy()\n",
    "    scores = softmax(scores) #scores = [negative, neutral, positive] -> Are always in this order\n",
    "    #print(f'{counter}: {scores}')\n",
    "    allScores[counter] = scores\n",
    "    counter += 1\n",
    "\n",
    "df_twitter_old['sentimentScore'] = allScores\n",
    "df_twitter_old"
   ]
  },
  {
   "cell_type": "code",
   "execution_count": 49,
   "metadata": {
    "ExecuteTime": {
     "end_time": "2023-06-02T08:08:47.861918700Z",
     "start_time": "2023-06-02T08:08:47.790376100Z"
    }
   },
   "outputs": [],
   "source": [
    "#save the data\n",
    "write_to_feather(df_twitter_old, 'twitter_old_analysis.ftr')"
   ]
  },
  {
   "cell_type": "code",
   "execution_count": 51,
   "metadata": {
    "ExecuteTime": {
     "end_time": "2023-06-02T08:09:40.487423Z",
     "start_time": "2023-06-02T08:09:40.467428300Z"
    }
   },
   "outputs": [],
   "source": [
    "#df_twitter_test = pd.read_feather(\"twitter_res/twitter_old_analysis.ftr\");\n",
    "#df_twitter_test"
   ]
  },
  {
   "cell_type": "code",
   "execution_count": 37,
   "metadata": {
    "ExecuteTime": {
     "end_time": "2023-06-02T08:01:44.429317700Z",
     "start_time": "2023-06-02T08:01:44.410323800Z"
    }
   },
   "outputs": [
    {
     "data": {
      "text/plain": [
       "0.013433724"
      ]
     },
     "execution_count": 37,
     "metadata": {},
     "output_type": "execute_result"
    }
   ],
   "source": [
    "df_twitter_old['sentimentScore'][0][0]"
   ]
  },
  {
   "cell_type": "code",
   "execution_count": 52,
   "metadata": {
    "ExecuteTime": {
     "end_time": "2023-06-02T08:10:34.533428Z",
     "start_time": "2023-06-02T08:10:33.861572300Z"
    }
   },
   "outputs": [
    {
     "data": {
      "text/html": [
       "<div>\n",
       "<style scoped>\n",
       "    .dataframe tbody tr th:only-of-type {\n",
       "        vertical-align: middle;\n",
       "    }\n",
       "\n",
       "    .dataframe tbody tr th {\n",
       "        vertical-align: top;\n",
       "    }\n",
       "\n",
       "    .dataframe thead th {\n",
       "        text-align: right;\n",
       "    }\n",
       "</style>\n",
       "<table border=\"1\" class=\"dataframe\">\n",
       "  <thead>\n",
       "    <tr style=\"text-align: right;\">\n",
       "      <th></th>\n",
       "      <th>tweet</th>\n",
       "      <th>tweet_ts</th>\n",
       "      <th>hashtags</th>\n",
       "      <th>sentimentScore</th>\n",
       "    </tr>\n",
       "  </thead>\n",
       "  <tbody>\n",
       "    <tr>\n",
       "      <th>0</th>\n",
       "      <td>lawmakers justify protecting old growth forest...</td>\n",
       "      <td>11-11-2022</td>\n",
       "      <td>[#scicomm, #carbon, #climatechange]</td>\n",
       "      <td>[0.7790241, 0.21138299, 0.009592833]</td>\n",
       "    </tr>\n",
       "    <tr>\n",
       "      <th>1</th>\n",
       "      <td>evolution plant drought strategies herbivore t...</td>\n",
       "      <td>28-04-2022</td>\n",
       "      <td>[#climatechange]</td>\n",
       "      <td>[0.050136503, 0.91367716, 0.036186364]</td>\n",
       "    </tr>\n",
       "    <tr>\n",
       "      <th>2</th>\n",
       "      <td>#conservation #climatecrisis #climateaction #r...</td>\n",
       "      <td>14-03-2022</td>\n",
       "      <td>[#conservation, #climatecrisis, #climateaction...</td>\n",
       "      <td>[0.067462675, 0.8687227, 0.063814655]</td>\n",
       "    </tr>\n",
       "    <tr>\n",
       "      <th>3</th>\n",
       "      <td>winner year's photography4humanity prize, \"a t...</td>\n",
       "      <td>04-01-2022</td>\n",
       "      <td>[#climateaction]</td>\n",
       "      <td>[0.056534603, 0.685811, 0.25765446]</td>\n",
       "    </tr>\n",
       "    <tr>\n",
       "      <th>4</th>\n",
       "      <td>blame shifting, peak passivity, lies #climatec...</td>\n",
       "      <td>10-03-2022</td>\n",
       "      <td>[#climatecrisis, #scottydoesnothing]</td>\n",
       "      <td>[0.884136, 0.107250676, 0.008613364]</td>\n",
       "    </tr>\n",
       "    <tr>\n",
       "      <th>...</th>\n",
       "      <td>...</td>\n",
       "      <td>...</td>\n",
       "      <td>...</td>\n",
       "      <td>...</td>\n",
       "    </tr>\n",
       "    <tr>\n",
       "      <th>2363325</th>\n",
       "      <td>world temperature anomalies 17.03.2023 76 /76 ...</td>\n",
       "      <td>17-03-2023</td>\n",
       "      <td>[#arctic, #africa, #russia, #climatecrisis, #c...</td>\n",
       "      <td>0</td>\n",
       "    </tr>\n",
       "    <tr>\n",
       "      <th>2363326</th>\n",
       "      <td>louisiana 8 worst water-polluting refineries c...</td>\n",
       "      <td>31-01-2023</td>\n",
       "      <td>[#climatechange, #oceans, #oceanpullution, #po...</td>\n",
       "      <td>0</td>\n",
       "    </tr>\n",
       "    <tr>\n",
       "      <th>2363328</th>\n",
       "      <td>free webinar: electric vehicles 101, january 3...</td>\n",
       "      <td>26-01-2023</td>\n",
       "      <td>[#evs, #electricvehicles, #vehicles, #cars, #p...</td>\n",
       "      <td>0</td>\n",
       "    </tr>\n",
       "    <tr>\n",
       "      <th>2363329</th>\n",
       "      <td>#worldozoneday #saveearth #gogreen #savesoil ...</td>\n",
       "      <td>16-09-2022</td>\n",
       "      <td>[#worldozoneday, #saveearth, #gogreen, #saveso...</td>\n",
       "      <td>0</td>\n",
       "    </tr>\n",
       "    <tr>\n",
       "      <th>2363331</th>\n",
       "      <td>amazing everything hand reach people actively ...</td>\n",
       "      <td>03-02-2022</td>\n",
       "      <td>[#climateaction]</td>\n",
       "      <td>0</td>\n",
       "    </tr>\n",
       "  </tbody>\n",
       "</table>\n",
       "<p>1644011 rows × 4 columns</p>\n",
       "</div>"
      ],
      "text/plain": [
       "                                                     tweet    tweet_ts  \\\n",
       "0        lawmakers justify protecting old growth forest...  11-11-2022   \n",
       "1        evolution plant drought strategies herbivore t...  28-04-2022   \n",
       "2        #conservation #climatecrisis #climateaction #r...  14-03-2022   \n",
       "3        winner year's photography4humanity prize, \"a t...  04-01-2022   \n",
       "4        blame shifting, peak passivity, lies #climatec...  10-03-2022   \n",
       "...                                                    ...         ...   \n",
       "2363325  world temperature anomalies 17.03.2023 76 /76 ...  17-03-2023   \n",
       "2363326  louisiana 8 worst water-polluting refineries c...  31-01-2023   \n",
       "2363328  free webinar: electric vehicles 101, january 3...  26-01-2023   \n",
       "2363329   #worldozoneday #saveearth #gogreen #savesoil ...  16-09-2022   \n",
       "2363331  amazing everything hand reach people actively ...  03-02-2022   \n",
       "\n",
       "                                                  hashtags  \\\n",
       "0                      [#scicomm, #carbon, #climatechange]   \n",
       "1                                         [#climatechange]   \n",
       "2        [#conservation, #climatecrisis, #climateaction...   \n",
       "3                                         [#climateaction]   \n",
       "4                     [#climatecrisis, #scottydoesnothing]   \n",
       "...                                                    ...   \n",
       "2363325  [#arctic, #africa, #russia, #climatecrisis, #c...   \n",
       "2363326  [#climatechange, #oceans, #oceanpullution, #po...   \n",
       "2363328  [#evs, #electricvehicles, #vehicles, #cars, #p...   \n",
       "2363329  [#worldozoneday, #saveearth, #gogreen, #saveso...   \n",
       "2363331                                   [#climateaction]   \n",
       "\n",
       "                                 sentimentScore  \n",
       "0          [0.7790241, 0.21138299, 0.009592833]  \n",
       "1        [0.050136503, 0.91367716, 0.036186364]  \n",
       "2         [0.067462675, 0.8687227, 0.063814655]  \n",
       "3           [0.056534603, 0.685811, 0.25765446]  \n",
       "4          [0.884136, 0.107250676, 0.008613364]  \n",
       "...                                         ...  \n",
       "2363325                                       0  \n",
       "2363326                                       0  \n",
       "2363328                                       0  \n",
       "2363329                                       0  \n",
       "2363331                                       0  \n",
       "\n",
       "[1644011 rows x 4 columns]"
      ]
     },
     "execution_count": 52,
     "metadata": {},
     "output_type": "execute_result"
    }
   ],
   "source": [
    "counter = 0\n",
    "allScores = [0 for i in range(len(df_twitter_new['tweet']))]\n",
    "\n",
    "for tweet in df_twitter_new['tweet']:\n",
    "    encoded_input = tokenizer(tweet, return_tensors='pt')\n",
    "    output = model(**encoded_input)\n",
    "    scores = output[0][0].detach().numpy()\n",
    "    scores = softmax(scores) #scores = [negative, neutral, positive]\n",
    "    #print(f'{counter}: {scores}')\n",
    "    allScores[counter] = scores\n",
    "    counter += 1\n",
    "\n",
    "df_twitter_new['sentimentScore'] = allScores;\n",
    "df_twitter_new"
   ]
  },
  {
   "cell_type": "code",
   "execution_count": null,
   "metadata": {},
   "outputs": [],
   "source": [
    "#save the data\n",
    "write_to_feather(df_twitter_new, 'twitter_old_analysis.ftr')"
   ]
  }
 ],
 "metadata": {
  "kernelspec": {
   "display_name": "Python 3 (ipykernel)",
   "language": "python",
   "name": "python3"
  },
  "language_info": {
   "codemirror_mode": {
    "name": "ipython",
    "version": 3
   },
   "file_extension": ".py",
   "mimetype": "text/x-python",
   "name": "python",
   "nbconvert_exporter": "python",
   "pygments_lexer": "ipython3",
   "version": "3.10.8"
  }
 },
 "nbformat": 4,
 "nbformat_minor": 1
}
