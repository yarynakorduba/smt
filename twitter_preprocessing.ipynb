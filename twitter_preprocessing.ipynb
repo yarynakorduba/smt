{
 "cells": [
  {
   "cell_type": "code",
   "execution_count": 30,
   "id": "a32b46cf",
   "metadata": {
    "ExecuteTime": {
     "end_time": "2023-05-27T07:24:33.630099900Z",
     "start_time": "2023-05-27T07:24:33.567043100Z"
    }
   },
   "outputs": [],
   "source": [
    "# imports\n",
    "\n",
    "import os\n",
    "import pandas as pd\n",
    "import pyarrow as pyarrow\n",
    "import regex as re\n",
    "import langid\n",
    "from pyarrow import feather\n",
    "from datetime import datetime\n",
    "from LanguageDetection import LanguageDetection as lang\n",
    "from nltk.corpus import stopwords\n",
    "from nltk.tokenize import WhitespaceTokenizer"
   ]
  },
  {
   "cell_type": "markdown",
   "source": [
    "---\n",
    "## Load Data"
   ],
   "metadata": {
    "collapsed": false
   }
  },
  {
   "cell_type": "code",
   "execution_count": 31,
   "id": "fc12c5ac",
   "metadata": {
    "ExecuteTime": {
     "end_time": "2023-05-27T07:24:41.276683500Z",
     "start_time": "2023-05-27T07:24:33.575050300Z"
    }
   },
   "outputs": [],
   "source": [
    "# load data and drop obsolete columns\n",
    "\n",
    "df_twitter_old = pd.read_csv('twitter_res/twitter_sentiment_data.csv')\n",
    "df_twitter_old.drop(columns=['sentiment'], inplace=True)\n",
    "df_twitter_old.rename(columns={'message':'tweet', 'tweetid':'tweetsid'}, inplace=True)\n",
    "\n",
    "df_twitter_new = pd.read_csv('twitter_res/climate_change_tweets.csv')\n",
    "df_twitter_new.drop(columns=['hashtag'], inplace=True)"
   ]
  },
  {
   "cell_type": "code",
   "execution_count": 32,
   "id": "e515a11e",
   "metadata": {
    "ExecuteTime": {
     "end_time": "2023-05-27T07:24:41.291698Z",
     "start_time": "2023-05-27T07:24:41.279685700Z"
    }
   },
   "outputs": [],
   "source": [
    "# concat\n",
    "\n",
    "#df_twitter = pd.concat([df_twitter_old, df_twitter_new])\n",
    "#df_twitter = df_twitter.reset_index()\n",
    "#df_twitter = df_twitter.head(500)\n",
    "\n",
    "#df_twitter.info()"
   ]
  },
  {
   "cell_type": "markdown",
   "source": [
    "---\n",
    "## Clean Data"
   ],
   "metadata": {
    "collapsed": false
   }
  },
  {
   "cell_type": "markdown",
   "source": [
    "**General cleaning (remove stopwords and transform to lowercase)**"
   ],
   "metadata": {
    "collapsed": false
   }
  },
  {
   "cell_type": "code",
   "execution_count": 33,
   "outputs": [],
   "source": [
    "def general_cleaning(tweet):\n",
    "    tokens = tk.tokenize(tweet.encode('ascii', errors='ignore').decode())\n",
    "    tweet_tmp = \"\"\n",
    "\n",
    "    for token in tokens:\n",
    "        token_low = token.lower()\n",
    "        if token_low not in stop_words:\n",
    "            tweet_tmp += token_low + ' '\n",
    "\n",
    "    return tweet_tmp\n",
    "\n",
    "stop_words = set(stopwords.words('english'))\n",
    "stop_words.add('rt')\n",
    "stop_words.add('htt')\n",
    "stop_words.add('https:')\n",
    "\n",
    "tk = WhitespaceTokenizer()\n",
    "\n",
    "df_twitter_old[\"tweet\"] = df_twitter_old[\"tweet\"].apply((lambda tweet: general_cleaning(tweet)))\n",
    "df_twitter_new[\"tweet\"] = df_twitter_new[\"tweet\"].apply((lambda tweet: general_cleaning(tweet)))"
   ],
   "metadata": {
    "collapsed": false,
    "ExecuteTime": {
     "end_time": "2023-05-27T07:25:18.785520200Z",
     "start_time": "2023-05-27T07:24:41.292698Z"
    }
   }
  },
  {
   "cell_type": "markdown",
   "id": "57ea071d",
   "metadata": {},
   "source": [
    "**Remove URLs and users marked with @**"
   ]
  },
  {
   "cell_type": "code",
   "execution_count": 34,
   "id": "1becf2ff",
   "metadata": {
    "ExecuteTime": {
     "end_time": "2023-05-27T07:25:57.606756800Z",
     "start_time": "2023-05-27T07:25:18.788522700Z"
    }
   },
   "outputs": [],
   "source": [
    "def remove_url(tweet):\n",
    "    return re.sub(r'https?://\\S+|www\\.\\S+', r\"\", tweet)\n",
    "\n",
    "\n",
    "def remove_user(tweet):\n",
    "    return re.sub(r'@[^\\s]+', r\"\", tweet)\n",
    "\n",
    "# Remove @ and urls\n",
    "df_twitter_old[\"tweet\"] = df_twitter_old[\"tweet\"].apply((lambda tweet: remove_url(tweet)))\n",
    "df_twitter_old[\"tweet\"] = df_twitter_old[\"tweet\"].apply((lambda tweet: remove_user(tweet)))\n",
    "\n",
    "df_twitter_new[\"tweet\"] = df_twitter_new[\"tweet\"].apply((lambda tweet: remove_url(tweet)))\n",
    "df_twitter_new[\"tweet\"] = df_twitter_new[\"tweet\"].apply((lambda tweet: remove_user(tweet)))"
   ]
  },
  {
   "cell_type": "markdown",
   "source": [
    "**Drop Duplicates**"
   ],
   "metadata": {
    "collapsed": false
   }
  },
  {
   "cell_type": "code",
   "execution_count": 35,
   "outputs": [],
   "source": [
    "df_twitter_old.drop_duplicates(subset='tweet', inplace=True)\n",
    "df_twitter_new.drop_duplicates(subset='tweet', inplace=True)"
   ],
   "metadata": {
    "collapsed": false,
    "ExecuteTime": {
     "end_time": "2023-05-27T07:25:59.737532900Z",
     "start_time": "2023-05-27T07:25:57.608758300Z"
    }
   }
  },
  {
   "cell_type": "markdown",
   "id": "eddd45eb",
   "metadata": {},
   "source": [
    "**Drop rows, where the tweet is not in English**"
   ]
  },
  {
   "cell_type": "code",
   "execution_count": 36,
   "id": "69d771bb",
   "metadata": {
    "ExecuteTime": {
     "end_time": "2023-05-27T18:19:57.976341200Z",
     "start_time": "2023-05-27T07:25:59.742537800Z"
    }
   },
   "outputs": [],
   "source": [
    "def detect_language(tweet):\n",
    "   # language = lang.LanguageDetection().LanguageDetect(tweet)\n",
    "   # language = LanguageIdentifier.from_modelstring(model, norm_probs=True)\n",
    "    pred = langid.classify(tweet)\n",
    "    if pred[0] != \"en\":\n",
    "        return False\n",
    "    else:\n",
    "        return True\n",
    "# Filtering language\n",
    "to_drop_old = []\n",
    "df_twitter_old['tweet'] = df_twitter_old['tweet'].apply(lambda tweet: tweet if (detect_language(tweet)) else to_drop_old.append(\n",
    "    df_twitter_old[df_twitter_old[\"tweet\"] == tweet].index[0]))\n",
    "df_twitter_old = df_twitter_old.drop(to_drop_old)\n",
    "\n",
    "to_drop_new = []\n",
    "df_twitter_new['tweet'] = df_twitter_new['tweet'].apply(lambda tweet: tweet if (detect_language(tweet)) else to_drop_new.append(\n",
    "    df_twitter_new[df_twitter_new[\"tweet\"] == tweet].index[0]))\n",
    "df_twitter_new = df_twitter_new.drop(to_drop_new)"
   ]
  },
  {
   "cell_type": "markdown",
   "source": [
    "---\n",
    "## Other"
   ],
   "metadata": {
    "collapsed": false
   }
  },
  {
   "cell_type": "markdown",
   "id": "728d8337",
   "metadata": {},
   "source": [
    "**Add column with date encoding the ID from the tweets**\n",
    "Source: https://github.com/oduwsdl/tweetedat\n"
   ]
  },
  {
   "cell_type": "code",
   "execution_count": 37,
   "id": "b04c94ba",
   "metadata": {
    "ExecuteTime": {
     "end_time": "2023-05-27T18:20:07.067638400Z",
     "start_time": "2023-05-27T18:19:57.993356800Z"
    }
   },
   "outputs": [],
   "source": [
    "def get_timestamp(id):\n",
    "    time = datetime.utcfromtimestamp(((id >> 22) + 1288834974657) / 1000)\n",
    "    return time.strftime(\"%d-%m-%Y\")\n",
    "\n",
    "df_twitter_old['tweet_ts'] = df_twitter_old['tweetsid'].apply(lambda id: get_timestamp(id))\n",
    "df_twitter_old = df_twitter_old.drop(columns=\"tweetsid\")\n",
    "\n",
    "df_twitter_new['tweet_ts'] = df_twitter_new['tweetsid'].apply(lambda id: get_timestamp(id))\n",
    "df_twitter_new = df_twitter_new.drop(columns=\"tweetsid\")\n"
   ]
  },
  {
   "cell_type": "markdown",
   "source": [
    "**Add column with hashtags**"
   ],
   "metadata": {
    "collapsed": false
   }
  },
  {
   "cell_type": "code",
   "execution_count": 38,
   "outputs": [],
   "source": [
    "def get_hashtags(tweet):\n",
    "    return re.findall('#\\w+', tweet)\n",
    "\n",
    "df_twitter_old['hashtags']= df_twitter_old['tweet'].apply(lambda tweet: get_hashtags(tweet))\n",
    "df_twitter_new['hashtags']= df_twitter_new['tweet'].apply(lambda tweet: get_hashtags(tweet))"
   ],
   "metadata": {
    "collapsed": false,
    "ExecuteTime": {
     "end_time": "2023-05-27T18:20:23.774835700Z",
     "start_time": "2023-05-27T18:20:07.071642100Z"
    }
   }
  },
  {
   "cell_type": "code",
   "execution_count": 39,
   "outputs": [
    {
     "data": {
      "text/plain": "                                                   tweet    tweet_ts  \\\n0       climate change interesting hustle global warm...  31-10-2016   \n1       watch #beforetheflood right here,  travels wo...  31-10-2016   \n2      fabulous! leonardo #dicaprio's film #climate c...  31-10-2016   \n3       watched amazing documentary leonardodicaprio ...  31-10-2016   \n4       pranita biswasi, lutheran odisha, gives testi...  31-10-2016   \n...                                                  ...         ...   \n43934  #awareness walls aren$q$t answer people fleein...  26-10-2016   \n43935          americans scared clowns climate change.    26-10-2016   \n43939  respective parties prevent climate change glob...  26-10-2016   \n43941   still can$q$t believe gif taehyung saved huma...  26-10-2016   \n43942    wealthy + fossil fuel industry know climate ...  26-10-2016   \n\n                    hashtags  \n0                         []  \n1          [#beforetheflood]  \n2      [#dicaprio, #climate]  \n3                         []  \n4                         []  \n...                      ...  \n43934           [#awareness]  \n43935                     []  \n43939           [#zpndebate]  \n43941                     []  \n43942                     []  \n\n[33966 rows x 3 columns]",
      "text/html": "<div>\n<style scoped>\n    .dataframe tbody tr th:only-of-type {\n        vertical-align: middle;\n    }\n\n    .dataframe tbody tr th {\n        vertical-align: top;\n    }\n\n    .dataframe thead th {\n        text-align: right;\n    }\n</style>\n<table border=\"1\" class=\"dataframe\">\n  <thead>\n    <tr style=\"text-align: right;\">\n      <th></th>\n      <th>tweet</th>\n      <th>tweet_ts</th>\n      <th>hashtags</th>\n    </tr>\n  </thead>\n  <tbody>\n    <tr>\n      <th>0</th>\n      <td>climate change interesting hustle global warm...</td>\n      <td>31-10-2016</td>\n      <td>[]</td>\n    </tr>\n    <tr>\n      <th>1</th>\n      <td>watch #beforetheflood right here,  travels wo...</td>\n      <td>31-10-2016</td>\n      <td>[#beforetheflood]</td>\n    </tr>\n    <tr>\n      <th>2</th>\n      <td>fabulous! leonardo #dicaprio's film #climate c...</td>\n      <td>31-10-2016</td>\n      <td>[#dicaprio, #climate]</td>\n    </tr>\n    <tr>\n      <th>3</th>\n      <td>watched amazing documentary leonardodicaprio ...</td>\n      <td>31-10-2016</td>\n      <td>[]</td>\n    </tr>\n    <tr>\n      <th>4</th>\n      <td>pranita biswasi, lutheran odisha, gives testi...</td>\n      <td>31-10-2016</td>\n      <td>[]</td>\n    </tr>\n    <tr>\n      <th>...</th>\n      <td>...</td>\n      <td>...</td>\n      <td>...</td>\n    </tr>\n    <tr>\n      <th>43934</th>\n      <td>#awareness walls aren$q$t answer people fleein...</td>\n      <td>26-10-2016</td>\n      <td>[#awareness]</td>\n    </tr>\n    <tr>\n      <th>43935</th>\n      <td>americans scared clowns climate change.</td>\n      <td>26-10-2016</td>\n      <td>[]</td>\n    </tr>\n    <tr>\n      <th>43939</th>\n      <td>respective parties prevent climate change glob...</td>\n      <td>26-10-2016</td>\n      <td>[#zpndebate]</td>\n    </tr>\n    <tr>\n      <th>43941</th>\n      <td>still can$q$t believe gif taehyung saved huma...</td>\n      <td>26-10-2016</td>\n      <td>[]</td>\n    </tr>\n    <tr>\n      <th>43942</th>\n      <td>wealthy + fossil fuel industry know climate ...</td>\n      <td>26-10-2016</td>\n      <td>[]</td>\n    </tr>\n  </tbody>\n</table>\n<p>33966 rows × 3 columns</p>\n</div>"
     },
     "execution_count": 39,
     "metadata": {},
     "output_type": "execute_result"
    }
   ],
   "source": [
    "df_twitter_old"
   ],
   "metadata": {
    "collapsed": false,
    "ExecuteTime": {
     "end_time": "2023-05-27T18:20:23.814876100Z",
     "start_time": "2023-05-27T18:20:23.776837500Z"
    }
   }
  },
  {
   "cell_type": "code",
   "execution_count": 40,
   "outputs": [
    {
     "data": {
      "text/plain": "                                                     tweet    tweet_ts  \\\n0        lawmakers justify protecting old growth forest...  11-11-2022   \n1        evolution plant drought strategies herbivore t...  28-04-2022   \n2        #conservation #climatecrisis #climateaction #r...  14-03-2022   \n3        winner year's photography4humanity prize, \"a t...  04-01-2022   \n4        blame shifting, peak passivity, lies #climatec...  10-03-2022   \n...                                                    ...         ...   \n2363325  world temperature anomalies 17.03.2023 76 /76 ...  17-03-2023   \n2363326  louisiana 8 worst water-polluting refineries c...  31-01-2023   \n2363328  free webinar: electric vehicles 101, january 3...  26-01-2023   \n2363329   #worldozoneday #saveearth #gogreen #savesoil ...  16-09-2022   \n2363331  amazing everything hand reach people actively ...  03-02-2022   \n\n                                                  hashtags  \n0                      [#scicomm, #carbon, #climatechange]  \n1                                         [#climatechange]  \n2        [#conservation, #climatecrisis, #climateaction...  \n3                                         [#climateaction]  \n4                     [#climatecrisis, #scottydoesnothing]  \n...                                                    ...  \n2363325  [#arctic, #africa, #russia, #climatecrisis, #c...  \n2363326  [#climatechange, #oceans, #oceanpullution, #po...  \n2363328  [#evs, #electricvehicles, #vehicles, #cars, #p...  \n2363329  [#worldozoneday, #saveearth, #gogreen, #saveso...  \n2363331                                   [#climateaction]  \n\n[1644011 rows x 3 columns]",
      "text/html": "<div>\n<style scoped>\n    .dataframe tbody tr th:only-of-type {\n        vertical-align: middle;\n    }\n\n    .dataframe tbody tr th {\n        vertical-align: top;\n    }\n\n    .dataframe thead th {\n        text-align: right;\n    }\n</style>\n<table border=\"1\" class=\"dataframe\">\n  <thead>\n    <tr style=\"text-align: right;\">\n      <th></th>\n      <th>tweet</th>\n      <th>tweet_ts</th>\n      <th>hashtags</th>\n    </tr>\n  </thead>\n  <tbody>\n    <tr>\n      <th>0</th>\n      <td>lawmakers justify protecting old growth forest...</td>\n      <td>11-11-2022</td>\n      <td>[#scicomm, #carbon, #climatechange]</td>\n    </tr>\n    <tr>\n      <th>1</th>\n      <td>evolution plant drought strategies herbivore t...</td>\n      <td>28-04-2022</td>\n      <td>[#climatechange]</td>\n    </tr>\n    <tr>\n      <th>2</th>\n      <td>#conservation #climatecrisis #climateaction #r...</td>\n      <td>14-03-2022</td>\n      <td>[#conservation, #climatecrisis, #climateaction...</td>\n    </tr>\n    <tr>\n      <th>3</th>\n      <td>winner year's photography4humanity prize, \"a t...</td>\n      <td>04-01-2022</td>\n      <td>[#climateaction]</td>\n    </tr>\n    <tr>\n      <th>4</th>\n      <td>blame shifting, peak passivity, lies #climatec...</td>\n      <td>10-03-2022</td>\n      <td>[#climatecrisis, #scottydoesnothing]</td>\n    </tr>\n    <tr>\n      <th>...</th>\n      <td>...</td>\n      <td>...</td>\n      <td>...</td>\n    </tr>\n    <tr>\n      <th>2363325</th>\n      <td>world temperature anomalies 17.03.2023 76 /76 ...</td>\n      <td>17-03-2023</td>\n      <td>[#arctic, #africa, #russia, #climatecrisis, #c...</td>\n    </tr>\n    <tr>\n      <th>2363326</th>\n      <td>louisiana 8 worst water-polluting refineries c...</td>\n      <td>31-01-2023</td>\n      <td>[#climatechange, #oceans, #oceanpullution, #po...</td>\n    </tr>\n    <tr>\n      <th>2363328</th>\n      <td>free webinar: electric vehicles 101, january 3...</td>\n      <td>26-01-2023</td>\n      <td>[#evs, #electricvehicles, #vehicles, #cars, #p...</td>\n    </tr>\n    <tr>\n      <th>2363329</th>\n      <td>#worldozoneday #saveearth #gogreen #savesoil ...</td>\n      <td>16-09-2022</td>\n      <td>[#worldozoneday, #saveearth, #gogreen, #saveso...</td>\n    </tr>\n    <tr>\n      <th>2363331</th>\n      <td>amazing everything hand reach people actively ...</td>\n      <td>03-02-2022</td>\n      <td>[#climateaction]</td>\n    </tr>\n  </tbody>\n</table>\n<p>1644011 rows × 3 columns</p>\n</div>"
     },
     "execution_count": 40,
     "metadata": {},
     "output_type": "execute_result"
    }
   ],
   "source": [
    "df_twitter_new"
   ],
   "metadata": {
    "collapsed": false,
    "ExecuteTime": {
     "end_time": "2023-05-27T18:20:23.822885300Z",
     "start_time": "2023-05-27T18:20:23.807871700Z"
    }
   }
  },
  {
   "cell_type": "markdown",
   "source": [
    "**Write twitter dataframe to binary Feather format**"
   ],
   "metadata": {
    "collapsed": false
   }
  },
  {
   "cell_type": "code",
   "execution_count": 46,
   "outputs": [],
   "source": [
    "def write_to_feather(df, name):\n",
    "    root_dir = os.path.dirname(os.path.abspath('twitter_preprocessing.ipynb'))\n",
    "    path = os.path.join(root_dir, 'twitter_res/' + name)\n",
    "    feather.write_feather(df, path)\n",
    "\n",
    "# read: df = pd.read_feather(path);"
   ],
   "metadata": {
    "collapsed": false,
    "ExecuteTime": {
     "end_time": "2023-05-27T18:50:44.069456800Z",
     "start_time": "2023-05-27T18:50:44.044434700Z"
    }
   }
  },
  {
   "cell_type": "code",
   "execution_count": 47,
   "outputs": [],
   "source": [
    "write_to_feather(df_twitter_old, 'twitter_old.ftr')\n",
    "write_to_feather(df_twitter_new, 'twitter_new.ftr')"
   ],
   "metadata": {
    "collapsed": false,
    "ExecuteTime": {
     "end_time": "2023-05-27T18:50:47.866080800Z",
     "start_time": "2023-05-27T18:50:45.512073600Z"
    }
   }
  }
 ],
 "metadata": {
  "kernelspec": {
   "display_name": "Python 3 (ipykernel)",
   "language": "python",
   "name": "python3"
  },
  "language_info": {
   "codemirror_mode": {
    "name": "ipython",
    "version": 3
   },
   "file_extension": ".py",
   "mimetype": "text/x-python",
   "name": "python",
   "nbconvert_exporter": "python",
   "pygments_lexer": "ipython3",
   "version": "3.10.9"
  }
 },
 "nbformat": 4,
 "nbformat_minor": 5
}
