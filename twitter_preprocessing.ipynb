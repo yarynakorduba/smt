{
 "cells": [
  {
   "cell_type": "code",
   "execution_count": 25,
   "id": "a32b46cf",
   "metadata": {
    "ExecuteTime": {
     "end_time": "2023-05-20T14:42:37.125094200Z",
     "start_time": "2023-05-20T14:42:37.085058300Z"
    }
   },
   "outputs": [],
   "source": [
    "# imports\n",
    "import pandas as pd"
   ]
  },
  {
   "cell_type": "code",
   "execution_count": 26,
   "id": "fc12c5ac",
   "metadata": {
    "ExecuteTime": {
     "end_time": "2023-05-20T14:42:45.141327Z",
     "start_time": "2023-05-20T14:42:37.105076800Z"
    }
   },
   "outputs": [],
   "source": [
    "# load data and drop obsolete columns\n",
    "df_twitter_old = pd.read_csv('twitter_res/twitter_sentiment_data.csv')\n",
    "df_twitter_old.drop(columns=['sentiment'], inplace=True)\n",
    "df_twitter_old.rename(columns={'message':'tweet', 'tweetid':'tweetsid'}, inplace=True)\n",
    "\n",
    "df_twitter_new = pd.read_csv('twitter_res/climate_change_tweets.csv')\n",
    "df_twitter_new.drop(columns=['hashtag'], inplace=True)"
   ]
  },
  {
   "cell_type": "code",
   "execution_count": 27,
   "outputs": [],
   "source": [
    "# concat\n",
    "df_twitter = pd.concat([df_twitter_old, df_twitter_new])\n",
    "df_twitter = df_twitter.reset_index()"
   ],
   "metadata": {
    "collapsed": false,
    "ExecuteTime": {
     "end_time": "2023-05-20T14:42:45.315232500Z",
     "start_time": "2023-05-20T14:42:45.144329600Z"
    }
   }
  },
  {
   "cell_type": "code",
   "execution_count": 28,
   "outputs": [
    {
     "name": "stdout",
     "output_type": "stream",
     "text": [
      "<class 'pandas.core.frame.DataFrame'>\n",
      "RangeIndex: 2407275 entries, 0 to 2407274\n",
      "Data columns (total 3 columns):\n",
      " #   Column    Dtype \n",
      "---  ------    ----- \n",
      " 0   index     int64 \n",
      " 1   tweet     object\n",
      " 2   tweetsid  int64 \n",
      "dtypes: int64(2), object(1)\n",
      "memory usage: 55.1+ MB\n"
     ]
    }
   ],
   "source": [
    "df_twitter.info()"
   ],
   "metadata": {
    "collapsed": false,
    "ExecuteTime": {
     "end_time": "2023-05-20T14:42:45.317235Z",
     "start_time": "2023-05-20T14:42:45.302473Z"
    }
   }
  },
  {
   "cell_type": "markdown",
   "source": [],
   "metadata": {
    "collapsed": false
   }
  }
 ],
 "metadata": {
  "kernelspec": {
   "display_name": "Python 3 (ipykernel)",
   "language": "python",
   "name": "python3"
  },
  "language_info": {
   "codemirror_mode": {
    "name": "ipython",
    "version": 3
   },
   "file_extension": ".py",
   "mimetype": "text/x-python",
   "name": "python",
   "nbconvert_exporter": "python",
   "pygments_lexer": "ipython3",
   "version": "3.9.12"
  }
 },
 "nbformat": 4,
 "nbformat_minor": 5
}
