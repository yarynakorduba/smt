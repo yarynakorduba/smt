{
 "cells": [
  {
   "cell_type": "code",
   "execution_count": 1,
   "id": "a32b46cf",
   "metadata": {
    "ExecuteTime": {
     "end_time": "2023-05-20T14:42:37.125094200Z",
     "start_time": "2023-05-20T14:42:37.085058300Z"
    }
   },
   "outputs": [],
   "source": [
    "# imports\n",
    "import pandas as pd\n",
    "from datetime import datetime\n",
    "from LanguageDetection import LanguageDetection as lang\n",
    "import regex as re\n",
    "import langid"
   ]
  },
  {
   "cell_type": "code",
   "execution_count": 2,
   "id": "fc12c5ac",
   "metadata": {
    "ExecuteTime": {
     "end_time": "2023-05-20T14:42:45.141327Z",
     "start_time": "2023-05-20T14:42:37.105076800Z"
    }
   },
   "outputs": [],
   "source": [
    "# load data and drop obsolete columns\n",
    "df_twitter_old = pd.read_csv('twitter_res/twitter_sentiment_data.csv')\n",
    "df_twitter_old.drop(columns=['sentiment'], inplace=True)\n",
    "df_twitter_old.rename(columns={'message':'tweet', 'tweetid':'tweetsid'}, inplace=True)\n",
    "\n",
    "df_twitter_new = pd.read_csv('twitter_res/climate_change_tweets.csv')\n",
    "df_twitter_new.drop(columns=['hashtag'], inplace=True)"
   ]
  },
  {
   "cell_type": "code",
   "execution_count": 3,
   "id": "e515a11e",
   "metadata": {
    "ExecuteTime": {
     "end_time": "2023-05-20T14:42:45.315232500Z",
     "start_time": "2023-05-20T14:42:45.144329600Z"
    }
   },
   "outputs": [],
   "source": [
    "# concat\n",
    "df_twitter = pd.concat([df_twitter_old, df_twitter_new])\n",
    "df_twitter = df_twitter.reset_index()\n",
    "df_twitter = df_twitter.head(500)"
   ]
  },
  {
   "cell_type": "code",
   "execution_count": 4,
   "id": "d7e85529",
   "metadata": {
    "ExecuteTime": {
     "end_time": "2023-05-20T14:42:45.317235Z",
     "start_time": "2023-05-20T14:42:45.302473Z"
    }
   },
   "outputs": [
    {
     "name": "stdout",
     "output_type": "stream",
     "text": [
      "<class 'pandas.core.frame.DataFrame'>\n",
      "RangeIndex: 500 entries, 0 to 499\n",
      "Data columns (total 3 columns):\n",
      " #   Column    Non-Null Count  Dtype \n",
      "---  ------    --------------  ----- \n",
      " 0   index     500 non-null    int64 \n",
      " 1   tweet     500 non-null    object\n",
      " 2   tweetsid  500 non-null    int64 \n",
      "dtypes: int64(2), object(1)\n",
      "memory usage: 11.8+ KB\n"
     ]
    }
   ],
   "source": [
    "df_twitter.info()"
   ]
  },
  {
   "cell_type": "markdown",
   "id": "57ea071d",
   "metadata": {},
   "source": [
    "**Remove URLs and users marked with @**"
   ]
  },
  {
   "cell_type": "code",
   "execution_count": 5,
   "id": "1becf2ff",
   "metadata": {},
   "outputs": [],
   "source": [
    "def remove_url(tweet):\n",
    "    return re.sub(r'https?://\\S+|www\\.\\S+', r\"\", tweet)\n",
    "\n",
    "\n",
    "def remove_user(tweet):\n",
    "    return re.sub(r'@[^\\s]+', r\"\", tweet)\n",
    "\n",
    "# Remove @ and urls\n",
    "df_twitter[\"tweet\"] = df_twitter[\"tweet\"].apply((lambda tweet: remove_url(tweet)))\n",
    "df_twitter[\"tweet\"] = df_twitter[\"tweet\"].apply((lambda tweet: remove_user(tweet)))"
   ]
  },
  {
   "cell_type": "markdown",
   "id": "eddd45eb",
   "metadata": {},
   "source": [
    "**Drop rows, where the tweet is not in English**"
   ]
  },
  {
   "cell_type": "code",
   "execution_count": 6,
   "id": "69d771bb",
   "metadata": {},
   "outputs": [],
   "source": [
    "def detect_language(tweet):\n",
    "   # language = lang.LanguageDetection().LanguageDetect(tweet)\n",
    "   # language = LanguageIdentifier.from_modelstring(model, norm_probs=True)\n",
    "    pred = langid.classify(tweet)\n",
    "    if pred[0] != \"en\":\n",
    "        return False\n",
    "    else:\n",
    "        return True\n",
    "# Filtering language\n",
    "to_drop = []\n",
    "df_twitter['tweet'] = df_twitter['tweet'].apply(lambda tweet: tweet if (detect_language(tweet)) else to_drop.append(\n",
    "    df_twitter[df_twitter[\"tweet\"] == tweet].index[0]))\n",
    "df_twitter = df_twitter.drop(to_drop)"
   ]
  },
  {
   "cell_type": "markdown",
   "id": "728d8337",
   "metadata": {},
   "source": [
    "**Add column with date encoding the ID from the tweets**\n",
    "Source: https://github.com/oduwsdl/tweetedat\n"
   ]
  },
  {
   "cell_type": "code",
   "execution_count": 7,
   "id": "b04c94ba",
   "metadata": {},
   "outputs": [],
   "source": [
    "def get_timestamp(id):\n",
    "    time = datetime.utcfromtimestamp(((id >> 22) + 1288834974657) / 1000)\n",
    "    return time.strftime(\"%d-%m-%Y\")\n",
    "\n",
    "df_twitter['tweetsid'] = df_twitter['tweetsid'].apply(lambda id: get_timestamp(id))\n",
    "df_twitter = df_twitter.drop(columns=\"tweetsid\")\n"
   ]
  },
  {
   "cell_type": "code",
   "execution_count": 8,
   "id": "92576129",
   "metadata": {},
   "outputs": [
    {
     "name": "stdout",
     "output_type": "stream",
     "text": [
      "     index                                              tweet\n",
      "0        0   climate change is an interesting hustle as it...\n",
      "1        1  RT  Watch #BeforeTheFlood right here, as  trav...\n",
      "2        2  Fabulous! Leonardo #DiCaprio's film on #climat...\n",
      "3        3  RT  Just watched this amazing documentary by l...\n",
      "4        4  RT  Pranita Biswasi, a Lutheran from Odisha, g...\n",
      "..     ...                                                ...\n",
      "495    495  Watch Leo DiCaprio talk #climate change with E...\n",
      "496    496  RT  The effect of climate change on the food c...\n",
      "497    497  RT  When youre enjoying the warm weather but y...\n",
      "498    498  RT  Appetite for oil and gas will continue to ...\n",
      "499    499  RT  Via  Cartoon: If the media covered climate...\n",
      "\n",
      "[466 rows x 2 columns]\n"
     ]
    }
   ],
   "source": [
    "print(df_twitter)"
   ]
  },
  {
   "cell_type": "code",
   "execution_count": null,
   "id": "a76c775c",
   "metadata": {},
   "outputs": [],
   "source": []
  }
 ],
 "metadata": {
  "kernelspec": {
   "display_name": "Python 3 (ipykernel)",
   "language": "python",
   "name": "python3"
  },
  "language_info": {
   "codemirror_mode": {
    "name": "ipython",
    "version": 3
   },
   "file_extension": ".py",
   "mimetype": "text/x-python",
   "name": "python",
   "nbconvert_exporter": "python",
   "pygments_lexer": "ipython3",
   "version": "3.10.9"
  }
 },
 "nbformat": 4,
 "nbformat_minor": 5
}
