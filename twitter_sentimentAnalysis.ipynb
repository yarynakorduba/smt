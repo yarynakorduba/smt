{
 "cells": [
  {
   "cell_type": "code",
   "execution_count": 46,
   "metadata": {
    "collapsed": true,
    "ExecuteTime": {
     "end_time": "2023-06-02T08:08:23.527682800Z",
     "start_time": "2023-06-02T08:08:23.508678Z"
    }
   },
   "outputs": [],
   "source": [
    "\n",
    "import os\n",
    "from pyarrow import feather\n",
    "from transformers import AutoModelForSequenceClassification\n",
    "from transformers import TFAutoModelForSequenceClassification\n",
    "from transformers import AutoTokenizer, AutoConfig\n",
    "import numpy as np\n",
    "from scipy.special import softmax\n",
    "import torch\n",
    "import pandas as pd"
   ]
  },
  {
   "cell_type": "code",
   "execution_count": 2,
   "outputs": [
    {
     "data": {
      "text/plain": "Downloading:   0%|          | 0.00/501M [00:00<?, ?B/s]",
      "application/vnd.jupyter.widget-view+json": {
       "version_major": 2,
       "version_minor": 0,
       "model_id": "4fbc390246584d2f85cc3f25d9aa39be"
      }
     },
     "metadata": {},
     "output_type": "display_data"
    },
    {
     "name": "stderr",
     "output_type": "stream",
     "text": [
      "Some weights of the model checkpoint at cardiffnlp/twitter-roberta-base-sentiment-latest were not used when initializing RobertaForSequenceClassification: ['roberta.pooler.dense.weight', 'roberta.pooler.dense.bias']\n",
      "- This IS expected if you are initializing RobertaForSequenceClassification from the checkpoint of a model trained on another task or with another architecture (e.g. initializing a BertForSequenceClassification model from a BertForPreTraining model).\n",
      "- This IS NOT expected if you are initializing RobertaForSequenceClassification from the checkpoint of a model that you expect to be exactly identical (initializing a BertForSequenceClassification model from a BertForSequenceClassification model).\n"
     ]
    }
   ],
   "source": [
    "MODEL = f\"cardiffnlp/twitter-roberta-base-sentiment-latest\"\n",
    "tokenizer = AutoTokenizer.from_pretrained(MODEL)\n",
    "config = AutoConfig.from_pretrained(MODEL)\n",
    "# PT\n",
    "model = AutoModelForSequenceClassification.from_pretrained(MODEL)"
   ],
   "metadata": {
    "collapsed": false,
    "ExecuteTime": {
     "end_time": "2023-06-02T07:28:53.996320100Z",
     "start_time": "2023-06-02T07:28:10.120567700Z"
    }
   }
  },
  {
   "cell_type": "code",
   "execution_count": 39,
   "outputs": [],
   "source": [
    "def write_to_feather(df, name):\n",
    "    root_dir = os.path.dirname(os.path.abspath('twitter_sentimentAnalysis.ipynb'))\n",
    "    path = os.path.join(root_dir, 'twitter_res/' + name)\n",
    "    feather.write_feather(df, path)"
   ],
   "metadata": {
    "collapsed": false,
    "ExecuteTime": {
     "end_time": "2023-06-02T08:06:23.635735100Z",
     "start_time": "2023-06-02T08:06:23.618739600Z"
    }
   }
  },
  {
   "cell_type": "code",
   "execution_count": 40,
   "outputs": [],
   "source": [
    "df_twitter_old = pd.read_feather(\"twitter_res/twitter_old.ftr\");\n",
    "df_twitter_new = pd.read_feather(\"twitter_res/twitter_new.ftr\");"
   ],
   "metadata": {
    "collapsed": false,
    "ExecuteTime": {
     "end_time": "2023-06-02T08:06:29.520909600Z",
     "start_time": "2023-06-02T08:06:26.313437300Z"
    }
   }
  },
  {
   "cell_type": "code",
   "execution_count": 41,
   "outputs": [
    {
     "name": "stdout",
     "output_type": "stream",
     "text": [
      " climate change interesting hustle global warming planet stopped warming 15 yes suv boom \n"
     ]
    }
   ],
   "source": [
    "print(df_twitter_old['tweet'][0]);"
   ],
   "metadata": {
    "collapsed": false,
    "ExecuteTime": {
     "end_time": "2023-06-02T08:06:30.258673600Z",
     "start_time": "2023-06-02T08:06:30.234682Z"
    }
   }
  },
  {
   "cell_type": "code",
   "execution_count": 48,
   "outputs": [
    {
     "data": {
      "text/plain": "                                                   tweet    tweet_ts  \\\n0       climate change interesting hustle global warm...  31-10-2016   \n1       watch #beforetheflood right here,  travels wo...  31-10-2016   \n2      fabulous! leonardo #dicaprio's film #climate c...  31-10-2016   \n3       watched amazing documentary leonardodicaprio ...  31-10-2016   \n4       pranita biswasi, lutheran odisha, gives testi...  31-10-2016   \n...                                                  ...         ...   \n43934  #awareness walls aren$q$t answer people fleein...  26-10-2016   \n43935          americans scared clowns climate change.    26-10-2016   \n43939  respective parties prevent climate change glob...  26-10-2016   \n43941   still can$q$t believe gif taehyung saved huma...  26-10-2016   \n43942    wealthy + fossil fuel industry know climate ...  26-10-2016   \n\n                    hashtags                          sentimentScore  \n0                         []   [0.013433724, 0.56145763, 0.42510867]  \n1          [#beforetheflood]     [0.019552002, 0.795175, 0.18527298]  \n2      [#dicaprio, #climate]  [0.0022631218, 0.01210344, 0.98563343]  \n3                         []  [0.0034224496, 0.031758707, 0.9648187]  \n4                         []    [0.021988245, 0.9171695, 0.06084218]  \n...                      ...                                     ...  \n43934           [#awareness]                                      []  \n43935                     []                                      []  \n43939           [#zpndebate]                                      []  \n43941                     []                                      []  \n43942                     []                                      []  \n\n[33966 rows x 4 columns]",
      "text/html": "<div>\n<style scoped>\n    .dataframe tbody tr th:only-of-type {\n        vertical-align: middle;\n    }\n\n    .dataframe tbody tr th {\n        vertical-align: top;\n    }\n\n    .dataframe thead th {\n        text-align: right;\n    }\n</style>\n<table border=\"1\" class=\"dataframe\">\n  <thead>\n    <tr style=\"text-align: right;\">\n      <th></th>\n      <th>tweet</th>\n      <th>tweet_ts</th>\n      <th>hashtags</th>\n      <th>sentimentScore</th>\n    </tr>\n  </thead>\n  <tbody>\n    <tr>\n      <th>0</th>\n      <td>climate change interesting hustle global warm...</td>\n      <td>31-10-2016</td>\n      <td>[]</td>\n      <td>[0.013433724, 0.56145763, 0.42510867]</td>\n    </tr>\n    <tr>\n      <th>1</th>\n      <td>watch #beforetheflood right here,  travels wo...</td>\n      <td>31-10-2016</td>\n      <td>[#beforetheflood]</td>\n      <td>[0.019552002, 0.795175, 0.18527298]</td>\n    </tr>\n    <tr>\n      <th>2</th>\n      <td>fabulous! leonardo #dicaprio's film #climate c...</td>\n      <td>31-10-2016</td>\n      <td>[#dicaprio, #climate]</td>\n      <td>[0.0022631218, 0.01210344, 0.98563343]</td>\n    </tr>\n    <tr>\n      <th>3</th>\n      <td>watched amazing documentary leonardodicaprio ...</td>\n      <td>31-10-2016</td>\n      <td>[]</td>\n      <td>[0.0034224496, 0.031758707, 0.9648187]</td>\n    </tr>\n    <tr>\n      <th>4</th>\n      <td>pranita biswasi, lutheran odisha, gives testi...</td>\n      <td>31-10-2016</td>\n      <td>[]</td>\n      <td>[0.021988245, 0.9171695, 0.06084218]</td>\n    </tr>\n    <tr>\n      <th>...</th>\n      <td>...</td>\n      <td>...</td>\n      <td>...</td>\n      <td>...</td>\n    </tr>\n    <tr>\n      <th>43934</th>\n      <td>#awareness walls aren$q$t answer people fleein...</td>\n      <td>26-10-2016</td>\n      <td>[#awareness]</td>\n      <td>[]</td>\n    </tr>\n    <tr>\n      <th>43935</th>\n      <td>americans scared clowns climate change.</td>\n      <td>26-10-2016</td>\n      <td>[]</td>\n      <td>[]</td>\n    </tr>\n    <tr>\n      <th>43939</th>\n      <td>respective parties prevent climate change glob...</td>\n      <td>26-10-2016</td>\n      <td>[#zpndebate]</td>\n      <td>[]</td>\n    </tr>\n    <tr>\n      <th>43941</th>\n      <td>still can$q$t believe gif taehyung saved huma...</td>\n      <td>26-10-2016</td>\n      <td>[]</td>\n      <td>[]</td>\n    </tr>\n    <tr>\n      <th>43942</th>\n      <td>wealthy + fossil fuel industry know climate ...</td>\n      <td>26-10-2016</td>\n      <td>[]</td>\n      <td>[]</td>\n    </tr>\n  </tbody>\n</table>\n<p>33966 rows × 4 columns</p>\n</div>"
     },
     "execution_count": 48,
     "metadata": {},
     "output_type": "execute_result"
    }
   ],
   "source": [
    "counter = 0\n",
    "allScores = [[] for i in range(len(df_twitter_old['tweet']))]\n",
    "\n",
    "for tweet in df_twitter_old['tweet']:\n",
    "    encoded_input = tokenizer(tweet, return_tensors='pt')\n",
    "    output = model(**encoded_input)\n",
    "    scores = output[0][0].detach().numpy()\n",
    "    scores = softmax(scores) #scores = [negative, neutral, positive] -> Are always in this order\n",
    "    #print(f'{counter}: {scores}')\n",
    "    allScores[counter] = scores\n",
    "    counter += 1\n",
    "\n",
    "df_twitter_old['sentimentScore'] = allScores\n",
    "df_twitter_old"
   ],
   "metadata": {
    "collapsed": false,
    "ExecuteTime": {
     "end_time": "2023-06-02T08:08:44.520584400Z",
     "start_time": "2023-06-02T08:08:44.200467600Z"
    }
   }
  },
  {
   "cell_type": "code",
   "execution_count": 49,
   "outputs": [],
   "source": [
    "#save the data\n",
    "write_to_feather(df_twitter_old, 'twitter_old_analysis.ftr')"
   ],
   "metadata": {
    "collapsed": false,
    "ExecuteTime": {
     "end_time": "2023-06-02T08:08:47.861918700Z",
     "start_time": "2023-06-02T08:08:47.790376100Z"
    }
   }
  },
  {
   "cell_type": "code",
   "execution_count": 51,
   "outputs": [],
   "source": [
    "#df_twitter_test = pd.read_feather(\"twitter_res/twitter_old_analysis.ftr\");\n",
    "#df_twitter_test"
   ],
   "metadata": {
    "collapsed": false,
    "ExecuteTime": {
     "end_time": "2023-06-02T08:09:40.487423Z",
     "start_time": "2023-06-02T08:09:40.467428300Z"
    }
   }
  },
  {
   "cell_type": "code",
   "execution_count": 37,
   "outputs": [
    {
     "data": {
      "text/plain": "0.013433724"
     },
     "execution_count": 37,
     "metadata": {},
     "output_type": "execute_result"
    }
   ],
   "source": [
    "df_twitter_old['sentimentScore'][0][0]"
   ],
   "metadata": {
    "collapsed": false,
    "ExecuteTime": {
     "end_time": "2023-06-02T08:01:44.429317700Z",
     "start_time": "2023-06-02T08:01:44.410323800Z"
    }
   }
  },
  {
   "cell_type": "code",
   "execution_count": 52,
   "outputs": [
    {
     "data": {
      "text/plain": "                                                     tweet    tweet_ts  \\\n0        lawmakers justify protecting old growth forest...  11-11-2022   \n1        evolution plant drought strategies herbivore t...  28-04-2022   \n2        #conservation #climatecrisis #climateaction #r...  14-03-2022   \n3        winner year's photography4humanity prize, \"a t...  04-01-2022   \n4        blame shifting, peak passivity, lies #climatec...  10-03-2022   \n...                                                    ...         ...   \n2363325  world temperature anomalies 17.03.2023 76 /76 ...  17-03-2023   \n2363326  louisiana 8 worst water-polluting refineries c...  31-01-2023   \n2363328  free webinar: electric vehicles 101, january 3...  26-01-2023   \n2363329   #worldozoneday #saveearth #gogreen #savesoil ...  16-09-2022   \n2363331  amazing everything hand reach people actively ...  03-02-2022   \n\n                                                  hashtags  \\\n0                      [#scicomm, #carbon, #climatechange]   \n1                                         [#climatechange]   \n2        [#conservation, #climatecrisis, #climateaction...   \n3                                         [#climateaction]   \n4                     [#climatecrisis, #scottydoesnothing]   \n...                                                    ...   \n2363325  [#arctic, #africa, #russia, #climatecrisis, #c...   \n2363326  [#climatechange, #oceans, #oceanpullution, #po...   \n2363328  [#evs, #electricvehicles, #vehicles, #cars, #p...   \n2363329  [#worldozoneday, #saveearth, #gogreen, #saveso...   \n2363331                                   [#climateaction]   \n\n                                 sentimentScore  \n0          [0.7790241, 0.21138299, 0.009592833]  \n1        [0.050136503, 0.91367716, 0.036186364]  \n2         [0.067462675, 0.8687227, 0.063814655]  \n3           [0.056534603, 0.685811, 0.25765446]  \n4          [0.884136, 0.107250676, 0.008613364]  \n...                                         ...  \n2363325                                       0  \n2363326                                       0  \n2363328                                       0  \n2363329                                       0  \n2363331                                       0  \n\n[1644011 rows x 4 columns]",
      "text/html": "<div>\n<style scoped>\n    .dataframe tbody tr th:only-of-type {\n        vertical-align: middle;\n    }\n\n    .dataframe tbody tr th {\n        vertical-align: top;\n    }\n\n    .dataframe thead th {\n        text-align: right;\n    }\n</style>\n<table border=\"1\" class=\"dataframe\">\n  <thead>\n    <tr style=\"text-align: right;\">\n      <th></th>\n      <th>tweet</th>\n      <th>tweet_ts</th>\n      <th>hashtags</th>\n      <th>sentimentScore</th>\n    </tr>\n  </thead>\n  <tbody>\n    <tr>\n      <th>0</th>\n      <td>lawmakers justify protecting old growth forest...</td>\n      <td>11-11-2022</td>\n      <td>[#scicomm, #carbon, #climatechange]</td>\n      <td>[0.7790241, 0.21138299, 0.009592833]</td>\n    </tr>\n    <tr>\n      <th>1</th>\n      <td>evolution plant drought strategies herbivore t...</td>\n      <td>28-04-2022</td>\n      <td>[#climatechange]</td>\n      <td>[0.050136503, 0.91367716, 0.036186364]</td>\n    </tr>\n    <tr>\n      <th>2</th>\n      <td>#conservation #climatecrisis #climateaction #r...</td>\n      <td>14-03-2022</td>\n      <td>[#conservation, #climatecrisis, #climateaction...</td>\n      <td>[0.067462675, 0.8687227, 0.063814655]</td>\n    </tr>\n    <tr>\n      <th>3</th>\n      <td>winner year's photography4humanity prize, \"a t...</td>\n      <td>04-01-2022</td>\n      <td>[#climateaction]</td>\n      <td>[0.056534603, 0.685811, 0.25765446]</td>\n    </tr>\n    <tr>\n      <th>4</th>\n      <td>blame shifting, peak passivity, lies #climatec...</td>\n      <td>10-03-2022</td>\n      <td>[#climatecrisis, #scottydoesnothing]</td>\n      <td>[0.884136, 0.107250676, 0.008613364]</td>\n    </tr>\n    <tr>\n      <th>...</th>\n      <td>...</td>\n      <td>...</td>\n      <td>...</td>\n      <td>...</td>\n    </tr>\n    <tr>\n      <th>2363325</th>\n      <td>world temperature anomalies 17.03.2023 76 /76 ...</td>\n      <td>17-03-2023</td>\n      <td>[#arctic, #africa, #russia, #climatecrisis, #c...</td>\n      <td>0</td>\n    </tr>\n    <tr>\n      <th>2363326</th>\n      <td>louisiana 8 worst water-polluting refineries c...</td>\n      <td>31-01-2023</td>\n      <td>[#climatechange, #oceans, #oceanpullution, #po...</td>\n      <td>0</td>\n    </tr>\n    <tr>\n      <th>2363328</th>\n      <td>free webinar: electric vehicles 101, january 3...</td>\n      <td>26-01-2023</td>\n      <td>[#evs, #electricvehicles, #vehicles, #cars, #p...</td>\n      <td>0</td>\n    </tr>\n    <tr>\n      <th>2363329</th>\n      <td>#worldozoneday #saveearth #gogreen #savesoil ...</td>\n      <td>16-09-2022</td>\n      <td>[#worldozoneday, #saveearth, #gogreen, #saveso...</td>\n      <td>0</td>\n    </tr>\n    <tr>\n      <th>2363331</th>\n      <td>amazing everything hand reach people actively ...</td>\n      <td>03-02-2022</td>\n      <td>[#climateaction]</td>\n      <td>0</td>\n    </tr>\n  </tbody>\n</table>\n<p>1644011 rows × 4 columns</p>\n</div>"
     },
     "execution_count": 52,
     "metadata": {},
     "output_type": "execute_result"
    }
   ],
   "source": [
    "counter = 0\n",
    "allScores = [0 for i in range(len(df_twitter_new['tweet']))]\n",
    "\n",
    "for tweet in df_twitter_new['tweet']:\n",
    "    encoded_input = tokenizer(tweet, return_tensors='pt')\n",
    "    output = model(**encoded_input)\n",
    "    scores = output[0][0].detach().numpy()\n",
    "    scores = softmax(scores) #scores = [negative, neutral, positive]\n",
    "    #print(f'{counter}: {scores}')\n",
    "    allScores[counter] = scores\n",
    "    counter += 1\n",
    "\n",
    "df_twitter_new['sentimentScore'] = allScores;\n",
    "df_twitter_new"
   ],
   "metadata": {
    "collapsed": false,
    "ExecuteTime": {
     "end_time": "2023-06-02T08:10:34.533428Z",
     "start_time": "2023-06-02T08:10:33.861572300Z"
    }
   }
  },
  {
   "cell_type": "code",
   "execution_count": null,
   "outputs": [],
   "source": [
    "#save the data\n",
    "write_to_feather(df_twitter_new, 'twitter_old_analysis.ftr')"
   ],
   "metadata": {
    "collapsed": false
   }
  }
 ],
 "metadata": {
  "kernelspec": {
   "display_name": "Python 3",
   "language": "python",
   "name": "python3"
  },
  "language_info": {
   "codemirror_mode": {
    "name": "ipython",
    "version": 2
   },
   "file_extension": ".py",
   "mimetype": "text/x-python",
   "name": "python",
   "nbconvert_exporter": "python",
   "pygments_lexer": "ipython2",
   "version": "2.7.6"
  }
 },
 "nbformat": 4,
 "nbformat_minor": 0
}
